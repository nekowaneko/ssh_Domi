{
 "cells": [
  {
   "cell_type": "code",
   "execution_count": 1,
   "id": "8fa3755f-a426-42cf-824c-82326e099fbe",
   "metadata": {},
   "outputs": [],
   "source": [
    "# %run models.py"
   ]
  },
  {
   "cell_type": "code",
   "execution_count": 2,
   "id": "ddf0e647-7aa6-432f-b0e5-17df8812c528",
   "metadata": {},
   "outputs": [],
   "source": [
    "import torch\n",
    "import torch.utils.data\n",
    "from torch import nn, optim\n",
    "from torch.nn import functional as F\n",
    "from torchvision import datasets, transforms\n",
    "from torchvision.utils import save_image"
   ]
  },
  {
   "cell_type": "code",
   "execution_count": 3,
   "id": "df53ab18-9e2d-4e83-a567-e43f0ddb198d",
   "metadata": {},
   "outputs": [],
   "source": [
    "device = torch.device(\"cuda\")\n",
    "kwargs = {'num_workers': 1, 'pin_memory': True} \n",
    "\n",
    "# hyper params\n",
    "batch_size = 64\n",
    "latent_size = 20\n",
    "epochs = 10"
   ]
  },
  {
   "cell_type": "code",
   "execution_count": 4,
   "id": "28eed3e8-dc54-48d4-ace8-f27741753d82",
   "metadata": {},
   "outputs": [],
   "source": [
    "train_loader = torch.utils.data.DataLoader(\n",
    "    datasets.MNIST(root='./mnist', train=True, download=False,\n",
    "                   transform=transforms.ToTensor()),\n",
    "    batch_size=batch_size, shuffle=True, **kwargs)\n",
    "\n",
    "test_loader = torch.utils.data.DataLoader(\n",
    "    datasets.MNIST(root='./mnist', train=False, transform=transforms.ToTensor()),\n",
    "    batch_size=batch_size, shuffle=False, **kwargs)"
   ]
  },
  {
   "cell_type": "code",
   "execution_count": 5,
   "id": "7e2d9f49-66b9-4cf9-8021-1dd9a8f54674",
   "metadata": {},
   "outputs": [],
   "source": [
    "def one_hot(labels, class_size):\n",
    "    targets = torch.zeros(labels.size(0), class_size)\n",
    "    for i, label in enumerate(labels):\n",
    "        targets[i, label] = 1\n",
    "    return targets.to(device)"
   ]
  },
  {
   "cell_type": "code",
   "execution_count": 19,
   "id": "5a62c8dd-5a07-4e44-80c8-a062ec755b69",
   "metadata": {},
   "outputs": [],
   "source": [
    "class CVAE(nn.Module):\n",
    "    def __init__(self, feature_size, latent_size, class_size):\n",
    "        super(CVAE, self).__init__()\n",
    "        self.feature_size = feature_size\n",
    "        self.class_size = class_size\n",
    "\n",
    "        # encode\n",
    "        self.fc1  = nn.Linear(feature_size + class_size, 400)\n",
    "        self.fc21 = nn.Linear(400, latent_size)\n",
    "        self.fc22 = nn.Linear(400, latent_size)\n",
    "\n",
    "        # decode\n",
    "        self.fc3 = nn.Linear(latent_size + class_size, 400)\n",
    "        self.fc4 = nn.Linear(400, feature_size)\n",
    "\n",
    "        self.elu = nn.ELU()\n",
    "        self.sigmoid = nn.Sigmoid()\n",
    "\n",
    "    def encode(self, x, c): # Q(z|x, c)\n",
    "        '''\n",
    "        x: (bs, feature_size)\n",
    "        c: (bs, class_size)\n",
    "        '''\n",
    "        inputs = torch.cat([x, c], 1) # (bs, feature_size+class_size)\n",
    "        h1 = self.elu(self.fc1(inputs))\n",
    "        z_mu = self.fc21(h1)\n",
    "        z_var = self.fc22(h1)\n",
    "        return z_mu, z_var\n",
    "\n",
    "    def reparameterize(self, mu, logvar):\n",
    "        std = torch.exp(0.5*logvar)\n",
    "        eps = torch.randn_like(std)\n",
    "        return mu + eps*std\n",
    "\n",
    "    def decode(self, z, c): # P(x|z, c)\n",
    "        '''\n",
    "        z: (bs, latent_size)\n",
    "        c: (bs, class_size)\n",
    "        '''\n",
    "        inputs = torch.cat([z, c], 1) # (bs, latent_size+class_size)\n",
    "        h3 = self.elu(self.fc3(inputs))\n",
    "        return self.sigmoid(self.fc4(h3))\n",
    "\n",
    "    def forward(self, x, c):\n",
    "        #mu, logvar = self.encode(x.view(-1, 28*28), c)  #for MNIST\n",
    "        mu, logvar = self.encode(x.view(-1, 128*128), c)  #for SANE\n",
    "        z = self.reparameterize(mu, logvar)\n",
    "        return self.decode(z, c), mu, logvar\n"
   ]
  },
  {
   "cell_type": "code",
   "execution_count": 20,
   "id": "29797473-b9ef-4c54-9761-c375fcf17663",
   "metadata": {},
   "outputs": [],
   "source": [
    "# create a CVAE model\n",
    "#model = CVAE(28*28, latent_size, 10).to(device)   #for MNIST\n",
    "model = CVAE(128*128, latent_size, 6).to(device)  #for SANE\n",
    "\n",
    "optimizer = optim.Adam(model.parameters(), lr=1e-3)\n",
    "\n",
    "# Reconstruction + KL divergence losses summed over all elements and batch\n",
    "def loss_function(recon_x, x, mu, logvar):\n",
    "    #BCE = F.binary_cross_entropy(recon_x, x.view(-1, 784), reduction='sum')  #for MNIST\n",
    "    BCE = F.binary_cross_entropy(recon_x, x.view(-1, 16384), reduction='sum')  #for SANE\n",
    "    # see Appendix B from VAE paper:\n",
    "    # Kingma and Welling. Auto-Encoding Variational Bayes. ICLR, 2014\n",
    "    # https://arxiv.org/abs/1312.6114\n",
    "    # 0.5 * sum(1 + log(sigma^2) - mu^2 - sigma^2)\n",
    "    KLD = -0.5 * torch.sum(1 + logvar - mu.pow(2) - logvar.exp())\n",
    "    return BCE + KLD\n",
    "\n"
   ]
  },
  {
   "cell_type": "code",
   "execution_count": 21,
   "id": "fe54f489-544d-4ef6-b2e4-7a1d7f78c36f",
   "metadata": {},
   "outputs": [
    {
     "name": "stdout",
     "output_type": "stream",
     "text": [
      "----------------------------------------------------------------\n",
      "        Layer (type)               Output Shape         Param #\n",
      "================================================================\n",
      "            Linear-1                  [-1, 400]       6,556,400\n",
      "               ELU-2                  [-1, 400]               0\n",
      "            Linear-3                   [-1, 20]           8,020\n",
      "            Linear-4                   [-1, 20]           8,020\n",
      "            Linear-5                  [-1, 400]          10,800\n",
      "               ELU-6                  [-1, 400]               0\n",
      "            Linear-7                [-1, 16384]       6,569,984\n",
      "           Sigmoid-8                [-1, 16384]               0\n",
      "================================================================\n",
      "Total params: 13,153,224\n",
      "Trainable params: 13,153,224\n",
      "Non-trainable params: 0\n",
      "----------------------------------------------------------------\n",
      "Input size (MB): 0.38\n",
      "Forward/backward pass size (MB): 0.26\n",
      "Params size (MB): 50.18\n",
      "Estimated Total Size (MB): 50.81\n",
      "----------------------------------------------------------------\n"
     ]
    }
   ],
   "source": [
    "from torchsummary import summary\n",
    "\n",
    "summary(model, [(128*128,), (6,)])  #summary(model, [(feature_size,), (class_size,)])\n"
   ]
  },
  {
   "cell_type": "code",
   "execution_count": 9,
   "id": "ce977df7-5156-4e9f-8c0e-0a66cd5c4d40",
   "metadata": {},
   "outputs": [],
   "source": [
    "def train(epoch):\n",
    "    model.train()\n",
    "    train_loss = 0\n",
    "    for batch_idx, (data, labels) in enumerate(train_loader):\n",
    "        data, labels = data.to(device), labels.to(device)\n",
    "        labels = one_hot(labels, 10)\n",
    "        recon_batch, mu, logvar = model(data, labels)\n",
    "        optimizer.zero_grad()\n",
    "        loss = loss_function(recon_batch, data, mu, logvar)\n",
    "        loss.backward()\n",
    "        train_loss += loss.detach().cpu().numpy()\n",
    "        optimizer.step()\n",
    "        #if batch_idx % 20 == 0:\n",
    "            #print('Train Epoch: {} [{}/{} ({:.0f}%)]\\tLoss: {:.6f}'.format(\n",
    "                #epoch, batch_idx * len(data), len(train_loader.dataset),\n",
    "                #100. * batch_idx / len(train_loader),\n",
    "                #loss.item() / len(data)))\n",
    "\n",
    "    print('====> Epoch: {} Average loss: {:.4f}'.format(\n",
    "          epoch, train_loss / len(train_loader.dataset)))"
   ]
  },
  {
   "cell_type": "code",
   "execution_count": 10,
   "id": "e6ca5ffd-1e26-4c53-94e7-a39114b159be",
   "metadata": {},
   "outputs": [],
   "source": [
    "def test(epoch):\n",
    "    model.eval()\n",
    "    test_loss = 0\n",
    "    with torch.no_grad():\n",
    "        for i, (data, labels) in enumerate(test_loader):\n",
    "            data, labels = data.to(device), labels.to(device)\n",
    "            labels = one_hot(labels, 10)\n",
    "            recon_batch, mu, logvar = model(data, labels)\n",
    "            test_loss += loss_function(recon_batch, data, mu, logvar).detach().cpu().numpy()\n",
    "            if i == 0:\n",
    "                n = min(data.size(0), 5)\n",
    "                comparison = torch.cat([data[:n],\n",
    "                                      recon_batch.view(-1, 1, 28, 28)[:n]])\n",
    "                save_image(comparison.cpu(),\n",
    "                         'reconstruction_' + str(epoch) + '.png', nrow=n)\n",
    "\n",
    "    test_loss /= len(test_loader.dataset)\n",
    "    print('====> Test set loss: {:.4f}'.format(test_loss))\n"
   ]
  },
  {
   "cell_type": "code",
   "execution_count": 11,
   "id": "ce47729f-9469-471f-ae83-27a02e6a738a",
   "metadata": {},
   "outputs": [
    {
     "data": {
      "application/vnd.jupyter.widget-view+json": {
       "model_id": "ac8b5357faa34a0baa1e5496b13e117c",
       "version_major": 2,
       "version_minor": 0
      },
      "text/plain": [
       "  0%|          | 0/10 [00:00<?, ?it/s]"
      ]
     },
     "metadata": {},
     "output_type": "display_data"
    },
    {
     "name": "stdout",
     "output_type": "stream",
     "text": [
      "====> Epoch: 1 Average loss: 144.5022\n",
      "====> Test set loss: 119.6992\n",
      "====> Epoch: 2 Average loss: 117.1439\n",
      "====> Test set loss: 113.1256\n",
      "====> Epoch: 3 Average loss: 111.9242\n",
      "====> Test set loss: 109.1891\n",
      "====> Epoch: 4 Average loss: 108.8352\n",
      "====> Test set loss: 107.3600\n",
      "====> Epoch: 5 Average loss: 106.8328\n",
      "====> Test set loss: 106.0862\n",
      "====> Epoch: 6 Average loss: 105.4024\n",
      "====> Test set loss: 104.6744\n",
      "====> Epoch: 7 Average loss: 104.4542\n",
      "====> Test set loss: 103.3462\n",
      "====> Epoch: 8 Average loss: 103.6405\n",
      "====> Test set loss: 102.7561\n",
      "====> Epoch: 9 Average loss: 103.0769\n",
      "====> Test set loss: 102.7040\n",
      "====> Epoch: 10 Average loss: 102.6399\n",
      "====> Test set loss: 101.9089\n"
     ]
    }
   ],
   "source": [
    "from tqdm.auto import tqdm\n",
    "\n",
    "for epoch in tqdm(range(1, epochs + 1)):\n",
    "        train(epoch)\n",
    "        test(epoch)\n",
    "        with torch.no_grad():\n",
    "            c = torch.eye(10, 10).cuda()\n",
    "            sample = torch.randn(10, 20).to(device)\n",
    "            sample = model.decode(sample, c).cpu()\n",
    "            save_image(sample.view(10, 1, 28, 28),\n",
    "                       'sample_' + str(epoch) + '.png')"
   ]
  },
  {
   "cell_type": "code",
   "execution_count": null,
   "id": "b395f376-904f-47c6-a729-8e2e8ecc506d",
   "metadata": {},
   "outputs": [],
   "source": []
  }
 ],
 "metadata": {
  "kernelspec": {
   "display_name": "Python 3 (ipykernel)",
   "language": "python",
   "name": "python3"
  },
  "language_info": {
   "codemirror_mode": {
    "name": "ipython",
    "version": 3
   },
   "file_extension": ".py",
   "mimetype": "text/x-python",
   "name": "python",
   "nbconvert_exporter": "python",
   "pygments_lexer": "ipython3",
   "version": "3.9.13"
  }
 },
 "nbformat": 4,
 "nbformat_minor": 5
}
